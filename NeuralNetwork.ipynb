{
 "cells": [
  {
   "cell_type": "code",
   "execution_count": 6,
   "metadata": {},
   "outputs": [],
   "source": [
    "import numpy as np"
   ]
  },
  {
   "cell_type": "code",
   "execution_count": 7,
   "metadata": {},
   "outputs": [],
   "source": [
    "xAll = np.array(([2,9], [1,5], [3,6], [5,10]), dtype=float) #input\n",
    "y = np.array(([92], [86], [89]), dtype=float) #output"
   ]
  },
  {
   "cell_type": "code",
   "execution_count": 8,
   "metadata": {},
   "outputs": [],
   "source": [
    "#scaling\n",
    "xAll = xAll/np.amax(xAll, axis=0)\n",
    "y = y/100"
   ]
  },
  {
   "cell_type": "code",
   "execution_count": 9,
   "metadata": {},
   "outputs": [],
   "source": [
    "X = np.split(xAll, [3])[0] #training\n",
    "xPredicted = np.split(xAll, [3])[1] #testing"
   ]
  },
  {
   "cell_type": "code",
   "execution_count": 10,
   "metadata": {},
   "outputs": [],
   "source": [
    "class Neural_Network(object):\n",
    "    def __init__(self):\n",
    "        self.inputSize = 2\n",
    "        self.outputSize = 1\n",
    "        self.hiddenSize = 3\n",
    "        self.w1 = np.random.randn(self.inputSize, self.hiddenSize) #weight1\n",
    "        self.w2 = np.random.randn(self.hiddenSize, self.outputSize) #weight2\n",
    "    \n",
    "    def forward(self, X):\n",
    "        #forawrd propagation\n",
    "        self.z = np.dot(X, self.w1) #input(dot)weight1\n",
    "        self.z2 = self.sigmoid(self.z) #activation function\n",
    "        self.z3 = np.dot(self.z2, self.w2) #hidden(dot)weight2\n",
    "        o = self.sigmoid(self.z3) #output layer activation function\n",
    "        return o\n",
    "    \n",
    "    def sigmoid(self, s):\n",
    "        #activation function\n",
    "        return 1/(1+np.exp(-s))\n",
    "    \n",
    "    def sigmoidPrime(self, s):\n",
    "        return s*(1-s)\n",
    "    \n",
    "    def backward(self, X, y, o):\n",
    "        self.o_error = y-o #output error\n",
    "        self.o_delta = self.o_error*self.sigmoidPrime(o)\n",
    "        \n",
    "        self.z2_error = self.o_delta.dot(self.w2.T) #hidden layer contribution to error\n",
    "        self.z2_delta = self.z2_error*self.sigmoidPrime(self.z2)\n",
    "        \n",
    "        self.w1 += X.T.dot(self.z2_delta) #adjustung first weight\n",
    "        self.w2 += self.z2.T.dot(self.o_delta) #adjusting second weight\n",
    "        \n",
    "    def train(self, X, y):\n",
    "        o = self.forward(X)\n",
    "        self.backward(X, y, o)\n",
    "        \n",
    "    def saveWeights(self):\n",
    "        np.savetxt(\"w1.txt\", self.w1, fmt=\"%s\")\n",
    "        np.savetxt(\"w2.txt\", self.w2, fmt=\"%s\")\n",
    "        \n",
    "    def predict(self):\n",
    "        print(\"Predicted data based on trained weights: \");\n",
    "        print(\"Input (scaled): \\n\" + str(xPredicted));\n",
    "        print(\"Output: \\n\" + str(self.forward(xPredicted)));    \n",
    "    "
   ]
  },
  {
   "cell_type": "code",
   "execution_count": 13,
   "metadata": {},
   "outputs": [
    {
     "name": "stdout",
     "output_type": "stream",
     "text": [
      "Predicted data based on trained weights: \n",
      "Input (scaled): \n",
      "[[1. 1.]]\n",
      "Output: \n",
      "[[0.93548906]]\n"
     ]
    }
   ],
   "source": [
    "NN = Neural_Network()\n",
    "for i in range(150000):\n",
    "#     print(\"Input: \\n\" + str(X))\n",
    "#     print(\"Actual output: \\n\" + str(y))\n",
    "#     print(\"Predicted output: \\n\" + str(NN.forward(X)))\n",
    "#     print(\"Loss: \\n\" + str(np.mean(np.square(y - NN.forward(X)))))\n",
    "#     print(\"\\n\")\n",
    "    NN.train(X, y)\n",
    "\n",
    "NN.saveWeights()\n",
    "NN.predict()"
   ]
  },
  {
   "cell_type": "code",
   "execution_count": null,
   "metadata": {},
   "outputs": [],
   "source": []
  }
 ],
 "metadata": {
  "kernelspec": {
   "display_name": "Python 3",
   "language": "python",
   "name": "python3"
  },
  "language_info": {
   "codemirror_mode": {
    "name": "ipython",
    "version": 3
   },
   "file_extension": ".py",
   "mimetype": "text/x-python",
   "name": "python",
   "nbconvert_exporter": "python",
   "pygments_lexer": "ipython3",
   "version": "3.7.1"
  }
 },
 "nbformat": 4,
 "nbformat_minor": 2
}
